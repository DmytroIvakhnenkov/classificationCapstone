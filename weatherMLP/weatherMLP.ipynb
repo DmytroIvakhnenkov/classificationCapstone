{
 "cells": [
  {
   "attachments": {},
   "cell_type": "markdown",
   "metadata": {},
   "source": [
    "#### Import Libraries"
   ]
  },
  {
   "cell_type": "code",
   "execution_count": 23,
   "metadata": {
    "vscode": {
     "languageId": "python"
    }
   },
   "outputs": [],
   "source": [
    "import numpy as np\n",
    "from skimage import feature, color, util, io\n",
    "import os\n",
    "import matplotlib.pyplot as plt\n",
    "import torch\n",
    "from torch.utils.data import TensorDataset, DataLoader\n",
    "from sklearn.model_selection import train_test_split\n",
    "from tqdm import tqdm\n",
    "from torch.nn.functional import one_hot\n",
    "\n",
    "device = torch.device('cuda' if torch.cuda.is_available() else 'cpu')"
   ]
  },
  {
   "attachments": {},
   "cell_type": "markdown",
   "metadata": {},
   "source": [
    "#### Extract image features and image labels to x and y tensors"
   ]
  },
  {
   "cell_type": "code",
   "execution_count": 24,
   "metadata": {
    "vscode": {
     "languageId": "python"
    }
   },
   "outputs": [],
   "source": [
    "path = '../weatherconditiondataset/'\n",
    "n = 1125\n",
    "n_bins = 10\n",
    "x = torch.zeros((n, n_bins))  # features\n",
    "y = [] # labels\n",
    "for i, f in enumerate(os.listdir(path)):\n",
    "    # FEATURES\n",
    "    img = io.imread(path+f)\n",
    "    # Convert image to grayscale\n",
    "    if (img.ndim == 3 and img[0, 0, :].size == 3):\n",
    "        img_gray = color.rgb2gray(img)\n",
    "    elif(img.ndim == 3 and img[0, 0, :].size == 4):\n",
    "        img_gray = color.rgb2gray(img[:, :, :3])\n",
    "    else:\n",
    "        img_gray = img\n",
    "    \n",
    "    # Convert the image to an unsigned 8-bit integer type\n",
    "    discretized_image = util.img_as_ubyte(img_gray)\n",
    "    # Extract LBP features\n",
    "    radius = 1\n",
    "    n_points = 8 * radius\n",
    "    lbp = feature.local_binary_pattern(discretized_image, n_points, radius, method='uniform')\n",
    "    # Create histogram of LBP codes\n",
    "    n_bins = 10\n",
    "    hist, bins = np.histogram(lbp, bins=n_bins, range=(0, n_bins), density=True)\n",
    "    x[i] = torch.tensor(hist)\n",
    "    # LABELS\n",
    "    string = \"\"\n",
    "    i = 0\n",
    "    while(ord(f[i]) > 57):\n",
    "        string += f[i]\n",
    "        i = i + 1\n",
    "    y.append(string)"
   ]
  },
  {
   "attachments": {},
   "cell_type": "markdown",
   "metadata": {},
   "source": [
    "#### Get information on labels, transform them from string to one hot"
   ]
  },
  {
   "cell_type": "code",
   "execution_count": 25,
   "metadata": {
    "vscode": {
     "languageId": "python"
    }
   },
   "outputs": [
    {
     "name": "stdout",
     "output_type": "stream",
     "text": [
      "{'cloudy': 300, 'shine': 253, 'sunrise': 357, 'rain': 215}\n",
      "{'cloudy': 0, 'sunrise': 1, 'rain': 2, 'shine': 3}\n"
     ]
    }
   ],
   "source": [
    "classNames = set(y)\n",
    "classCount = {}\n",
    "classNumber = {}\n",
    "numbClasses = len(classNames)\n",
    "\n",
    "for i, c in enumerate(classNames): \n",
    "    classNumber[c] =  i\n",
    "for c in y: \n",
    "    classCount[c] =  classCount.get(c, 0) + 1\n",
    "\n",
    "y_OneHot = torch.zeros((n, numbClasses))  # features\n",
    "\n",
    "for i, c in enumerate(y):\n",
    "    numb = torch.tensor(classNumber[c])\n",
    "    y_OneHot[i] = one_hot(numb, num_classes = numbClasses).float()\n",
    "\n",
    "print(classCount)\n",
    "print(classNumber)"
   ]
  },
  {
   "attachments": {},
   "cell_type": "markdown",
   "metadata": {},
   "source": [
    "#### Showcase the LBP histograms for different classes"
   ]
  },
  {
   "cell_type": "code",
   "execution_count": 26,
   "metadata": {
    "vscode": {
     "languageId": "python"
    }
   },
   "outputs": [
    {
     "data": {
      "image/png": "[encoded data removed]",
      "text/plain": [
       "<Figure size 1400x400 with 4 Axes>"
      ]
     },
     "metadata": {},
     "output_type": "display_data"
    }
   ],
   "source": [
    "classMeanHist = torch.zeros(len(classNames), n_bins)\n",
    "\n",
    "for hist, label in zip(x,y):\n",
    "    classMeanHist[classNumber[label]] = classMeanHist[classNumber[label]] + hist\n",
    "\n",
    "for c in classNames:\n",
    "    classMeanHist[classNumber[c]] = classMeanHist[classNumber[c]] / classCount[c]\n",
    "\n",
    "\n",
    "fig, axes = plt.subplots(nrows=1, ncols=4, figsize=(14, 4), gridspec_kw={'wspace': 0.4})\n",
    "\n",
    "# Display each image in a different subplot\n",
    "for i, c in enumerate(classNames):\n",
    "    axes[i].bar(bins[0:10], classMeanHist[classNumber[c]])\n",
    "    axes[i].set_title(c)\n",
    "    axes[i].set_ylim(0, 0.25)\n",
    "    axes[i].set_xticks(bins[0:10], [int(bin) for bin in bins[0:10]])\n",
    "\n",
    "plt.savefig(\"distributions.png\")\n",
    "\n",
    "plt.show()"
   ]
  },
  {
   "attachments": {},
   "cell_type": "markdown",
   "metadata": {},
   "source": [
    "#### Define Multi Layer Perceptron"
   ]
  },
  {
   "cell_type": "code",
   "execution_count": 41,
   "metadata": {
    "vscode": {
     "languageId": "python"
    }
   },
   "outputs": [],
   "source": [
    "# define our multilayer perceptron\n",
    "# this class inherits from torch.nn.module, which is a base class for all neural network modules \n",
    "class MLP(torch.nn.Module):\n",
    "        # define inputs and variables for our class\n",
    "        def __init__(self, input_size, output_size):\n",
    "            # initialize torch.nn.module, our superclass\n",
    "            super(MLP, self).__init__()\n",
    "            # number of inputs to the network\n",
    "            self.input_size = input_size\n",
    "            # number of our network's outputs \n",
    "            self.output_size = output_size\n",
    "\n",
    "            self.fc1 = torch.nn.Linear(self.input_size, 512)\n",
    "            self.fc2 = torch.nn.Linear(512, 512)\n",
    "            self.fc3 = torch.nn.Linear(512, self.output_size)\n",
    "            self.relu = torch.nn.ReLU()\n",
    "            self.dropout = torch.nn.Dropout(0.2)\n",
    "        # the structure of our network\n",
    "        def forward(self, input):\n",
    "            #print(x[0])\n",
    "            x = self.relu(self.fc1(input))\n",
    "            x = self.dropout(x)\n",
    "            x = self.relu(self.fc2(x))\n",
    "            x = self.dropout(x)  \n",
    "            x = self.fc3(x)\n",
    "            \n",
    "            return x"
   ]
  },
  {
   "attachments": {},
   "cell_type": "markdown",
   "metadata": {},
   "source": [
    "#### Define model training function"
   ]
  },
  {
   "cell_type": "code",
   "execution_count": 42,
   "metadata": {
    "vscode": {
     "languageId": "python"
    }
   },
   "outputs": [],
   "source": [
    "def train_model(model, epochs, train_dataloader, foldNumb):\n",
    "  criterion = torch.nn.CrossEntropyLoss()\n",
    "  optimizer = torch.optim.SGD(model.parameters(), lr = 0.03)\n",
    "  model.train()\n",
    "  loss_arr = []\n",
    "  acc_arr = []\n",
    "  count = 0 \n",
    "  bestLoss = float('inf')\n",
    "  \n",
    "  for i in tqdm(range(epochs)):\n",
    "    tot_loss = 0.0\n",
    "    tot_accuracy = 0.0\n",
    "    for j, batch in enumerate(train_dataloader): \n",
    "\n",
    "        data, label = batch\n",
    "        data = data.to(device)\n",
    "        label = label.to(device)\n",
    "\n",
    "        # parameter learning #\n",
    "        optimizer.zero_grad()\n",
    "        y_pred = model(data)\n",
    "        loss = criterion(y_pred, label)\n",
    "        loss.backward()\n",
    "        optimizer.step()\n",
    "        #------------------- \n",
    "\n",
    "        tot_loss = tot_loss + loss.item()*batch_size\n",
    "        # Get the index of an array element with the highest probability\n",
    "        y_pred = torch.argmax(y_pred, dim = 1)\n",
    "        label = torch.argmax(label, dim = 1)\n",
    "        # Count correct predictions\n",
    "        accuracy = y_pred.eq(label).sum().item()\n",
    "        tot_accuracy = tot_accuracy + accuracy\n",
    "\n",
    "    avg_loss = tot_loss/len(train_dataset)\n",
    "    avg_acc = tot_accuracy/len(train_dataset)\n",
    "    loss_arr.append(avg_loss)\n",
    "    acc_arr.append(avg_acc)\n",
    "    # if(avg_loss<bestLoss)\n",
    "    #   bestLoss = avg_loss\n",
    "    #   count = 0\n",
    "    # else \n",
    "    #   count = count + 1\n",
    "    # if(count==2)\n",
    "    #   print(\"lr going down:\\n\", param_group['lr'])\n",
    "    #   for param_group in optimizer.param_groups:\n",
    "    #     param_group['lr'] = param_group['lr']*0.99\n",
    "    # print('Epoch %d | Loss %6.2f | Accuracy %2.2f' % (i,avg_loss, avg_acc))\n",
    "\n",
    "  fig, ax = plt.subplots()\n",
    "  xAxis = np.linspace(1, len(loss_arr), num=len(loss_arr))\n",
    "  plt.title(\"Loss plot, fold #\" + str(foldNumb))\n",
    "  ax.set_xlabel(\"Epoch\")\n",
    "  ax.set_ylabel(\"Cross Entropy Loss\")\n",
    "  plt.plot(xAxis, loss_arr)\n",
    "  plt.savefig(\"lossNoGradReduction_fold\" +str(foldNumb)+\".png\")\n",
    "  plt.close()\n",
    "  fig, ax = plt.subplots()\n",
    "  xAxis = np.linspace(1, len(acc_arr), num=len(acc_arr))\n",
    "  plt.title(\"Accuracy plot, fold #\" + str(foldNumb))\n",
    "  ax.set_xlabel(\"Epoch\")\n",
    "  ax.set_ylabel(\"Accuracy\")\n",
    "  plt.plot(xAxis, acc_arr)\n",
    "  plt.savefig(\"accuracyNoGradReduction_fold\" +str(foldNumb)+\".png\")\n",
    "  plt.close()\n",
    "\n",
    "  return loss_arr[len(loss_arr)-1], acc_arr[len(acc_arr)-1]"
   ]
  },
  {
   "attachments": {},
   "cell_type": "markdown",
   "metadata": {},
   "source": [
    "#### Define model testing function"
   ]
  },
  {
   "cell_type": "code",
   "execution_count": 43,
   "metadata": {
    "vscode": {
     "languageId": "python"
    }
   },
   "outputs": [],
   "source": [
    "from sklearn.metrics import confusion_matrix\n",
    "\n",
    "def test_model(model, x_test, y_test):\n",
    "    model.eval()\n",
    "\n",
    "    # Get predictions\n",
    "    y_pred = model(x_test)\n",
    "    # Get the index of an array element with the highest probability\n",
    "    y_pred = torch.argmax(y_pred, dim = 1)\n",
    "    y_test = torch.argmax(y_test, dim = 1)\n",
    "    # Count correct predictions\n",
    "    accuracy = y_pred.eq(y_test).sum()/torch.numel(y_pred)\n",
    "    \n",
    "    y_pred = y_pred.detach().cpu().numpy()\n",
    "    y_test = y_test.detach().cpu().numpy()\n",
    "    cm = confusion_matrix(y_test, y_pred, labels = [0, 1, 2, 3])\n",
    "    \n",
    "    return accuracy.item(), cm"
   ]
  },
  {
   "attachments": {},
   "cell_type": "markdown",
   "metadata": {},
   "source": [
    "### MAIN"
   ]
  },
  {
   "cell_type": "code",
   "execution_count": 44,
   "metadata": {
    "vscode": {
     "languageId": "python"
    }
   },
   "outputs": [
    {
     "name": "stdout",
     "output_type": "stream",
     "text": [
      "Fold #1:\n"
     ]
    },
    {
     "name": "stderr",
     "output_type": "stream",
     "text": [
      "100%|██████████| 2000/2000 [10:48<00:00,  3.08it/s]\n"
     ]
    },
    {
     "name": "stdout",
     "output_type": "stream",
     "text": [
      "Fold #2:\n"
     ]
    },
    {
     "name": "stderr",
     "output_type": "stream",
     "text": [
      "100%|██████████| 2000/2000 [10:46<00:00,  3.09it/s]\n"
     ]
    },
    {
     "name": "stdout",
     "output_type": "stream",
     "text": [
      "Fold #3:\n"
     ]
    },
    {
     "name": "stderr",
     "output_type": "stream",
     "text": [
      "100%|██████████| 2000/2000 [10:47<00:00,  3.09it/s]\n"
     ]
    },
    {
     "name": "stdout",
     "output_type": "stream",
     "text": [
      "Fold #4:\n"
     ]
    },
    {
     "name": "stderr",
     "output_type": "stream",
     "text": [
      "100%|██████████| 2000/2000 [10:47<00:00,  3.09it/s]\n"
     ]
    },
    {
     "name": "stdout",
     "output_type": "stream",
     "text": [
      "Fold #5:\n"
     ]
    },
    {
     "name": "stderr",
     "output_type": "stream",
     "text": [
      "100%|██████████| 2000/2000 [10:45<00:00,  3.10it/s]\n"
     ]
    },
    {
     "name": "stdout",
     "output_type": "stream",
     "text": [
      "Average training loss: 0.75\n",
      "Average training accuracy: 70.15%\n",
      "Average test accuracy: 54.83%\n"
     ]
    }
   ],
   "source": [
    "%run ../heatmap.py\n",
    "from sklearn.model_selection import KFold\n",
    "import sys\n",
    "sys.path.insert(1, '/media/commlab/TenTB/home/dmytro/AI_HW#1/')\n",
    "\n",
    "batch_size = 16\n",
    "# number of subprocesses to use for data loading\n",
    "num_workers = 8\n",
    "k = 5  # number of folds\n",
    "epochs = 2000\n",
    "\n",
    "cm_total = np.zeros((4, 4))\n",
    "avg_test_acc = 0\n",
    "avg_train_acc = 0\n",
    "avg_train_loss = 0\n",
    "\n",
    "# create a KFold object\n",
    "kf = KFold(n_splits=k, shuffle=True)\n",
    "\n",
    "# # shuffle the data and split it in two\n",
    "# shuffled_indices = np.random.permutation(len(x))\n",
    "# x = x[shuffled_indices]\n",
    "# y_OneHot = y_OneHot[shuffled_indices]\n",
    "\n",
    "# x = x[:round(n/2), :]\n",
    "# y_OneHot = y_OneHot[:round(n/2), :]\n",
    "\n",
    "# loop over the folds\n",
    "i = 1\n",
    "for train_index, test_index in kf.split(x):\n",
    "    print(\"Fold #\" + str(i) + \":\")\n",
    "    \n",
    "    # split the data into training and test sets\n",
    "    x_train, y_train = x[train_index], y_OneHot[train_index]\n",
    "    x_test, y_test = x[test_index], y_OneHot[test_index]\n",
    "\n",
    "    # zip the data and its labels into a dataset\n",
    "    train_dataset = TensorDataset(x_train, y_train)\n",
    "    # pass the data into dataloader\n",
    "    train_dataloader = DataLoader(train_dataset, batch_size=batch_size, num_workers=num_workers, shuffle=True)\n",
    "\n",
    "    # create an instance of the model\n",
    "    model = MLP(n_bins, len(classNames)).to(device)\n",
    "\n",
    "    train_loss, train_acc = train_model(model, epochs, train_dataloader, i)\n",
    "    test_acc, cm = test_model(model, x_test.to(device), y_test.to(device))\n",
    "\n",
    "    avg_train_loss += train_loss\n",
    "    avg_train_acc += train_acc\n",
    "    avg_test_acc += test_acc\n",
    "    cm_total = cm_total + cm\n",
    "\n",
    "    i = i + 1\n",
    "\n",
    "print(\"Average training loss:\", round(avg_train_loss/k, 2))\n",
    "print(\"Average training accuracy:\", str(round(avg_train_acc/k*100, 2)) + \"%\")\n",
    "print(\"Average test accuracy:\", str(round(avg_test_acc/k*100, 2)) + \"%\")\n",
    "grid_labels = ['cloudy', 'sunrise', 'shine', 'rain']\n",
    "# compute the sum of each row\n",
    "row_sums = cm_total.sum(axis=1)\n",
    "cm_normalized = cm_total / row_sums[:, np.newaxis]\n",
    "im, cbar = heatmap(cm_normalized, grid_labels, grid_labels)\n",
    "annotate_heatmap(im)\n",
    "plt.savefig(\"accuracyNoGradReduction_confusionMatrix.png\")\n",
    "plt.close()"
   ]
  },
  {
   "attachments": {},
   "cell_type": "markdown",
   "metadata": {},
   "source": [
    "<b>full data 512 nodes network</b><br>\n",
    "Average training loss: 0.75<br>\n",
    "Average training accuracy: 70.15%<br>\n",
    "Average test accuracy: 54.83%<br>"
   ]
  },
  {
   "attachments": {},
   "cell_type": "markdown",
   "metadata": {},
   "source": [
    "<b>half data 512 nodes network </b> <br>\n",
    "Average training loss: 0.71 <br>\n",
    "Average training accuracy: 70.73% <br>\n",
    "Average test accuracy: 59.45%"
   ]
  },
  {
   "attachments": {},
   "cell_type": "markdown",
   "metadata": {},
   "source": [
    "<b>full data 10 nodes network</b><br>\n",
    "Average training loss: 1.11 <br>\n",
    "Average training accuracy: 51.95% <br>\n",
    "Average test accuracy: 54.45%"
   ]
  },
  {
   "attachments": {},
   "cell_type": "markdown",
   "metadata": {},
   "source": [
    "<b>half data 10 nodes network</b> <br>\n",
    "Average training loss: 1.08 <br>\n",
    "Average training accuracy: 53.78% <br>\n",
    "Average test accuracy: 55.35% <br>"
   ]
  },
  {
   "cell_type": "code",
   "execution_count": 48,
   "metadata": {
    "vscode": {
     "languageId": "python"
    }
   },
   "outputs": [
    {
     "name": "stdout",
     "output_type": "stream",
     "text": [
      "2 GPU(s) are available!\n",
      "GPU 0: NVIDIA GeForce RTX 2080 Ti\n",
      "\tCompute capability: (7, 5)\n",
      "\tMemory: 11019.56 MB\n",
      "GPU 1: NVIDIA GeForce RTX 2080 Ti\n",
      "\tCompute capability: (7, 5)\n",
      "\tMemory: 11018.25 MB\n"
     ]
    }
   ],
   "source": [
    "if torch.cuda.is_available():\n",
    "    print(f'{torch.cuda.device_count()} GPU(s) are available!')\n",
    "    for i in range(torch.cuda.device_count()):\n",
    "        print(f'GPU {i}: {torch.cuda.get_device_name(i)}')\n",
    "        print(f'\\tCompute capability: {torch.cuda.get_device_capability(i)}')\n",
    "        print(f'\\tMemory: {torch.cuda.get_device_properties(i).total_memory / 1024 ** 2:.2f} MB')\n",
    "else:\n",
    "    print('CUDA is not available.')\n"
   ]
  }
 ],
 "metadata": {
  "kernelspec": {
   "display_name": "Python 3 (ipykernel)",
   "language": "python",
   "name": "python3"
  },
  "orig_nbformat": 4
 },
 "nbformat": 4,
 "nbformat_minor": 2
}
